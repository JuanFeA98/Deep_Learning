{
  "cells": [
    {
      "cell_type": "markdown",
      "metadata": {
        "id": "FYGP7OnofeS8"
      },
      "source": [
        "## **Librerías**"
      ]
    },
    {
      "cell_type": "code",
      "execution_count": null,
      "metadata": {
        "id": "mVS4ywl9feTI"
      },
      "outputs": [],
      "source": [
        "import pandas as pd\n",
        "import numpy as np\n",
        "import matplotlib.pyplot as plt"
      ]
    },
    {
      "cell_type": "code",
      "execution_count": null,
      "metadata": {
        "id": "qwYmVFPcfeTK"
      },
      "outputs": [],
      "source": [
        "from keras import layers, models\n",
        "from keras.utils import to_categorical\n",
        "from keras.datasets import mnist"
      ]
    },
    {
      "cell_type": "markdown",
      "metadata": {
        "id": "VaGEmiVTfeTL"
      },
      "source": [
        "## **Datos**"
      ]
    },
    {
      "cell_type": "code",
      "execution_count": null,
      "metadata": {
        "colab": {
          "base_uri": "https://localhost:8080/"
        },
        "id": "M55ssiSVfeTM",
        "outputId": "c6544760-d083-4072-8616-fb93c06da6f6"
      },
      "outputs": [
        {
          "output_type": "stream",
          "name": "stdout",
          "text": [
            "Downloading data from https://storage.googleapis.com/tensorflow/tf-keras-datasets/mnist.npz\n",
            "11490434/11490434 [==============================] - 0s 0us/step\n"
          ]
        }
      ],
      "source": [
        "(train_data, train_labels), (test_data, test_labels) = mnist.load_data()"
      ]
    },
    {
      "cell_type": "code",
      "execution_count": null,
      "metadata": {
        "colab": {
          "base_uri": "https://localhost:8080/"
        },
        "id": "HezIrlugfeTM",
        "outputId": "f7406512-c87f-4054-9094-25e13c0df093"
      },
      "outputs": [
        {
          "output_type": "execute_result",
          "data": {
            "text/plain": [
              "(60000, 28, 28)"
            ]
          },
          "metadata": {},
          "execution_count": 4
        }
      ],
      "source": [
        "train_data.shape"
      ]
    },
    {
      "cell_type": "code",
      "execution_count": null,
      "metadata": {
        "colab": {
          "base_uri": "https://localhost:8080/",
          "height": 265
        },
        "id": "MUxv8KWbfeTO",
        "outputId": "55316e38-0de5-4ada-a1d1-242075c3cf20"
      },
      "outputs": [
        {
          "output_type": "display_data",
          "data": {
            "text/plain": [
              "<Figure size 432x288 with 1 Axes>"
            ],
            "image/png": "[encoded data removed]"
          },
          "metadata": {
            "needs_background": "light"
          }
        }
      ],
      "source": [
        "plt.imshow(train_data[0])\n",
        "plt.show()"
      ]
    },
    {
      "cell_type": "markdown",
      "metadata": {
        "id": "xahpTpN3feTP"
      },
      "source": [
        "## **Modelo**"
      ]
    },
    {
      "cell_type": "markdown",
      "source": [
        "### **Construcción del Modelo**"
      ],
      "metadata": {
        "id": "qteN_rV8LAxb"
      }
    },
    {
      "cell_type": "code",
      "execution_count": null,
      "metadata": {
        "id": "i7zQ4cw8feTQ"
      },
      "outputs": [],
      "source": [
        "# Inicializamos nuestra red neuronal\n",
        "model = models.Sequential()"
      ]
    },
    {
      "cell_type": "code",
      "execution_count": null,
      "metadata": {
        "id": "o1LJ100qfeTR"
      },
      "outputs": [],
      "source": [
        "# Agregamos capas a nuestra red neuronal\n",
        "model.add(\n",
        "    layers.Dense(\n",
        "        512, \n",
        "        activation='relu', \n",
        "        input_shape=(28*28,)\n",
        "      )\n",
        "  )\n",
        "\n",
        "model.add(\n",
        "    layers.Dense(\n",
        "        10,\n",
        "        activation='softmax'\n",
        "    )\n",
        ")"
      ]
    },
    {
      "cell_type": "code",
      "execution_count": null,
      "metadata": {
        "id": "7Gl7BkyUfeTR"
      },
      "outputs": [],
      "source": [
        "# Compilamos nuestra red neuronal\n",
        "model.compile(\n",
        "    optimizer='rmsprop',\n",
        "    loss='categorical_crossentropy',\n",
        "    metrics=['accuracy']\n",
        ")"
      ]
    },
    {
      "cell_type": "code",
      "execution_count": null,
      "metadata": {
        "colab": {
          "base_uri": "https://localhost:8080/"
        },
        "id": "TNfM22K9feTR",
        "outputId": "83d6dbfd-3e93-417d-c3bd-219d0d41cec9"
      },
      "outputs": [
        {
          "output_type": "stream",
          "name": "stdout",
          "text": [
            "Model: \"sequential\"\n",
            "_________________________________________________________________\n",
            " Layer (type)                Output Shape              Param #   \n",
            "=================================================================\n",
            " dense (Dense)               (None, 512)               401920    \n",
            "                                                                 \n",
            " dense_1 (Dense)             (None, 10)                5130      \n",
            "                                                                 \n",
            "=================================================================\n",
            "Total params: 407,050\n",
            "Trainable params: 407,050\n",
            "Non-trainable params: 0\n",
            "_________________________________________________________________\n"
          ]
        }
      ],
      "source": [
        "# Resumen de nuestra red neuronal\n",
        "model.summary()"
      ]
    },
    {
      "cell_type": "markdown",
      "source": [
        "### **Entrenamiento del modelo**"
      ],
      "metadata": {
        "id": "K6jDx-VCLHs4"
      }
    },
    {
      "cell_type": "code",
      "execution_count": null,
      "metadata": {
        "id": "aawThG2efeTS"
      },
      "outputs": [],
      "source": [
        "# Ajustamos la forma de nuestra sabana de variables independientes\n",
        "X_train = train_data.reshape((60000, 28*28))\n",
        "X_train = X_train.astype('float32')/255\n",
        "\n",
        "X_test = test_data.reshape((10000, 28*28))\n",
        "X_test = X_test.astype('float32')/255"
      ]
    },
    {
      "cell_type": "code",
      "source": [
        "# Convertimos en dummies nuestra variable dependiente\n",
        "y_train = to_categorical(train_labels)\n",
        "\n",
        "y_test = to_categorical(test_labels)"
      ],
      "metadata": {
        "id": "GJuQcBQ6L4gM"
      },
      "execution_count": null,
      "outputs": []
    },
    {
      "cell_type": "code",
      "source": [
        "# Entrenamos el modelo\n",
        "model.fit(X_train, y_train, epochs=5, batch_size=128)"
      ],
      "metadata": {
        "colab": {
          "base_uri": "https://localhost:8080/"
        },
        "id": "DM_iijJcMmb5",
        "outputId": "3976bcdf-1907-4c85-a61b-3938cd79746c"
      },
      "execution_count": null,
      "outputs": [
        {
          "output_type": "stream",
          "name": "stdout",
          "text": [
            "Epoch 1/5\n",
            "469/469 [==============================] - 4s 3ms/step - loss: 0.2596 - accuracy: 0.9242\n",
            "Epoch 2/5\n",
            "469/469 [==============================] - 2s 3ms/step - loss: 0.1033 - accuracy: 0.9695\n",
            "Epoch 3/5\n",
            "469/469 [==============================] - 2s 3ms/step - loss: 0.0677 - accuracy: 0.9801\n",
            "Epoch 4/5\n",
            "469/469 [==============================] - 2s 3ms/step - loss: 0.0495 - accuracy: 0.9852\n",
            "Epoch 5/5\n",
            "469/469 [==============================] - 2s 3ms/step - loss: 0.0374 - accuracy: 0.9889\n"
          ]
        },
        {
          "output_type": "execute_result",
          "data": {
            "text/plain": [
              "<keras.callbacks.History at 0x7f6e004e3250>"
            ]
          },
          "metadata": {},
          "execution_count": 12
        }
      ]
    },
    {
      "cell_type": "code",
      "source": [
        "# Evaluamos el modelo\n",
        "model.evaluate(X_test, y_test)"
      ],
      "metadata": {
        "colab": {
          "base_uri": "https://localhost:8080/"
        },
        "id": "TtZlGzJuMmxg",
        "outputId": "063d8e2c-34d9-40b4-8d32-54351f50ec5e"
      },
      "execution_count": null,
      "outputs": [
        {
          "output_type": "stream",
          "name": "stdout",
          "text": [
            "313/313 [==============================] - 2s 5ms/step - loss: 0.0739 - accuracy: 0.9777\n"
          ]
        },
        {
          "output_type": "execute_result",
          "data": {
            "text/plain": [
              "[0.07387911528348923, 0.9776999950408936]"
            ]
          },
          "metadata": {},
          "execution_count": 14
        }
      ]
    }
  ],
  "metadata": {
    "kernelspec": {
      "display_name": "Python 3.10.6 ('GoogleML')",
      "language": "python",
      "name": "python3"
    },
    "language_info": {
      "codemirror_mode": {
        "name": "ipython",
        "version": 3
      },
      "file_extension": ".py",
      "mimetype": "text/x-python",
      "name": "python",
      "nbconvert_exporter": "python",
      "pygments_lexer": "ipython3",
      "version": "3.10.6"
    },
    "orig_nbformat": 4,
    "vscode": {
      "interpreter": {
        "hash": "41179edf4b4370bd5ab599c489a31158eba27cfa82e58f20d6ab67cb13184a84"
      }
    },
    "colab": {
      "provenance": [],
      "collapsed_sections": []
    },
    "accelerator": "GPU",
    "gpuClass": "standard"
  },
  "nbformat": 4,
  "nbformat_minor": 0
}
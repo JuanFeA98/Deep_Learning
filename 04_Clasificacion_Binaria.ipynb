{
  "nbformat": 4,
  "nbformat_minor": 0,
  "metadata": {
    "colab": {
      "provenance": [],
      "toc_visible": true
    },
    "kernelspec": {
      "name": "python3",
      "display_name": "Python 3"
    },
    "language_info": {
      "name": "python"
    },
    "accelerator": "GPU",
    "gpuClass": "standard"
  },
  "cells": [
    {
      "cell_type": "markdown",
      "source": [
        "## **Librerías**"
      ],
      "metadata": {
        "id": "wJSxZQqnCD2l"
      }
    },
    {
      "cell_type": "code",
      "execution_count": 1,
      "metadata": {
        "id": "eD04lw9_BnRn"
      },
      "outputs": [],
      "source": [
        "import pandas as pd\n",
        "import numpy as np\n",
        "import matplotlib.pyplot as plt\n",
        "import seaborn as sns"
      ]
    },
    {
      "cell_type": "code",
      "source": [
        "from keras.datasets import imdb\n",
        "from keras import models, layers, optimizers"
      ],
      "metadata": {
        "id": "jHntVPi7CIh8"
      },
      "execution_count": 2,
      "outputs": []
    },
    {
      "cell_type": "code",
      "source": [
        "from sklearn.metrics import confusion_matrix, classification_report"
      ],
      "metadata": {
        "id": "LPNO1S3Xkz2E"
      },
      "execution_count": 3,
      "outputs": []
    },
    {
      "cell_type": "markdown",
      "source": [
        "### **Datos**"
      ],
      "metadata": {
        "id": "AXCjrp75Q00K"
      }
    },
    {
      "cell_type": "code",
      "source": [
        "# Traemos los datos\n",
        "(train_data, train_labels), (test_data, test_labels) = imdb.load_data(num_words=10000)"
      ],
      "metadata": {
        "colab": {
          "base_uri": "https://localhost:8080/"
        },
        "id": "o-b1ux9JOOS0",
        "outputId": "b55bb4f5-ee9a-4b09-9582-981b58773cb7"
      },
      "execution_count": 4,
      "outputs": [
        {
          "output_type": "stream",
          "name": "stdout",
          "text": [
            "Downloading data from https://storage.googleapis.com/tensorflow/tf-keras-datasets/imdb.npz\n",
            "17464789/17464789 [==============================] - 2s 0us/step\n"
          ]
        }
      ]
    },
    {
      "cell_type": "code",
      "source": [
        "# Tokenizamos nuestras palabras\n",
        "word_index = imdb.get_word_index()\n",
        "word_index = dict([(value, key) for (key, value) in word_index.items()])"
      ],
      "metadata": {
        "colab": {
          "base_uri": "https://localhost:8080/"
        },
        "id": "uxLEqIuLOOt9",
        "outputId": "8e2f07a9-62b5-44cd-e7d2-455a618373e0"
      },
      "execution_count": 5,
      "outputs": [
        {
          "output_type": "stream",
          "name": "stdout",
          "text": [
            "Downloading data from https://storage.googleapis.com/tensorflow/tf-keras-datasets/imdb_word_index.json\n",
            "1641221/1641221 [==============================] - 0s 0us/step\n"
          ]
        }
      ]
    },
    {
      "cell_type": "code",
      "source": [
        "def vectorizar(sequences, dim=10000):\n",
        "  results = np.zeros((len(sequences), dim))\n",
        "  for i, sequences in enumerate(sequences):\n",
        "    results[i, sequences] = 1\n",
        "  return results"
      ],
      "metadata": {
        "id": "SbS9IjJIPR8x"
      },
      "execution_count": 6,
      "outputs": []
    },
    {
      "cell_type": "code",
      "source": [
        "# Vectorizamos nuestras bases\n",
        "X_train = vectorizar(train_data)\n",
        "X_test = vectorizar(test_data)"
      ],
      "metadata": {
        "id": "DK-uef5KPSFB"
      },
      "execution_count": 7,
      "outputs": []
    },
    {
      "cell_type": "code",
      "source": [
        "# Ajustamos nuestros labels para que queden en formato decimal\n",
        "y_train = np.asarray(train_labels).astype('float32')\n",
        "y_test = np.asarray(test_labels).astype('float32')"
      ],
      "metadata": {
        "id": "5H8H7f8zPSO-"
      },
      "execution_count": 8,
      "outputs": []
    },
    {
      "cell_type": "markdown",
      "source": [
        "### **Red Neuronal**"
      ],
      "metadata": {
        "id": "F_45Uma5Q6Em"
      }
    },
    {
      "cell_type": "markdown",
      "source": [
        "#### **Configuramos el modelo**"
      ],
      "metadata": {
        "id": "N931DmFfhWXc"
      }
    },
    {
      "cell_type": "code",
      "source": [
        "# Inicializamos nuestro modelo\n",
        "model = models.Sequential()"
      ],
      "metadata": {
        "id": "AMrykclOQzJn"
      },
      "execution_count": 9,
      "outputs": []
    },
    {
      "cell_type": "code",
      "source": [
        "# Creamos nuestras capas\n",
        "model.add(layers.Dense(16, activation='relu',input_shape=(10000,)))\n",
        "model.add(layers.Dense(16, activation='relu'))\n",
        "model.add(layers.Dense(1, activation='sigmoid'))"
      ],
      "metadata": {
        "id": "YKYQwB_LQ7_m"
      },
      "execution_count": 10,
      "outputs": []
    },
    {
      "cell_type": "code",
      "source": [
        "# Compilamos nuestro modelo\n",
        "model.compile(\n",
        "    optimizer='rmsprop',\n",
        "    loss='binary_crossentropy',\n",
        "    metrics=['acc']\n",
        ")"
      ],
      "metadata": {
        "id": "otbGsTtNQ8Gb"
      },
      "execution_count": 11,
      "outputs": []
    },
    {
      "cell_type": "code",
      "source": [
        "# Separamos nuestra basesde en testeo y validación\n",
        "X_val = X_train[:10000]\n",
        "partial_X_train = X_train[10000:]\n",
        "\n",
        "y_val = y_train[:10000]\n",
        "partial_y_train = y_train[10000:]"
      ],
      "metadata": {
        "id": "hygzg7-WQ8NV"
      },
      "execution_count": 12,
      "outputs": []
    },
    {
      "cell_type": "markdown",
      "source": [
        "#### **Entrenamos el modelo**"
      ],
      "metadata": {
        "id": "sRZxkmH5hZmh"
      }
    },
    {
      "cell_type": "code",
      "source": [
        "history = model.fit(\n",
        "    partial_X_train, \n",
        "    partial_y_train,\n",
        "    epochs=5,\n",
        "    batch_size=512,\n",
        "    validation_data=(X_val,y_val)\n",
        ")"
      ],
      "metadata": {
        "colab": {
          "base_uri": "https://localhost:8080/"
        },
        "id": "G3GzasnPQ8T9",
        "outputId": "51f2c255-f132-411c-dedb-962c38a347c5"
      },
      "execution_count": 13,
      "outputs": [
        {
          "output_type": "stream",
          "name": "stdout",
          "text": [
            "Epoch 1/5\n",
            "30/30 [==============================] - 4s 42ms/step - loss: 0.5221 - acc: 0.7845 - val_loss: 0.3949 - val_acc: 0.8675\n",
            "Epoch 2/5\n",
            "30/30 [==============================] - 1s 21ms/step - loss: 0.3123 - acc: 0.9005 - val_loss: 0.3150 - val_acc: 0.8804\n",
            "Epoch 3/5\n",
            "30/30 [==============================] - 1s 21ms/step - loss: 0.2290 - acc: 0.9262 - val_loss: 0.2866 - val_acc: 0.8849\n",
            "Epoch 4/5\n",
            "30/30 [==============================] - 1s 24ms/step - loss: 0.1801 - acc: 0.9415 - val_loss: 0.2810 - val_acc: 0.8864\n",
            "Epoch 5/5\n",
            "30/30 [==============================] - 1s 20ms/step - loss: 0.1461 - acc: 0.9533 - val_loss: 0.2826 - val_acc: 0.8852\n"
          ]
        }
      ]
    },
    {
      "cell_type": "markdown",
      "source": [
        "#### **Evaluación del modelo**"
      ],
      "metadata": {
        "id": "oHmv51SIjiE-"
      }
    },
    {
      "cell_type": "code",
      "source": [
        "# Guardamos los resultados de la perdida del modelo en entrenamiento y validación\n",
        "history_dict = history.history\n",
        "\n",
        "loss_values = history_dict['loss']\n",
        "val_loss_values = history_dict['val_loss']\n",
        "\n",
        "epoch = range(1, len(loss_values) + 1)"
      ],
      "metadata": {
        "id": "Nek_6dKAQ8Z9"
      },
      "execution_count": 14,
      "outputs": []
    },
    {
      "cell_type": "code",
      "source": [
        "fig, ax = plt.subplots(figsize=(10, 6))\n",
        "\n",
        "plt.title('Loss values.', size=14, color='white')\n",
        "plt.grid(visible=True, linewidth=0.1, color='white')\n",
        "\n",
        "fig.patch.set_facecolor('#21252b') \n",
        "ax.set_facecolor('#282c34') \n",
        "\n",
        "plt.plot(epoch, loss_values, label='Training Loss values')\n",
        "plt.plot(epoch, val_loss_values, label='Validation loss values')\n",
        "\n",
        "plt.xticks(color='white', size=12)\n",
        "plt.yticks(color='white', size=12)\n",
        "\n",
        "plt.legend()\n",
        "\n",
        "plt.show()"
      ],
      "metadata": {
        "colab": {
          "base_uri": "https://localhost:8080/",
          "height": 394
        },
        "id": "xE6zAbwpQ8lv",
        "outputId": "fd81525a-5cdb-41ea-f89b-eef4c182f726"
      },
      "execution_count": 15,
      "outputs": [
        {
          "output_type": "display_data",
          "data": {
            "text/plain": [
              "<Figure size 720x432 with 1 Axes>"
            ],
            "image/png": "[encoded data removed]"
          },
          "metadata": {}
        }
      ]
    },
    {
      "cell_type": "code",
      "source": [
        "model.evaluate(X_test, y_test)"
      ],
      "metadata": {
        "colab": {
          "base_uri": "https://localhost:8080/"
        },
        "id": "uRp13QcbjuGp",
        "outputId": "7ebb6a55-3e92-414e-ee7d-d3643a4f3061"
      },
      "execution_count": 16,
      "outputs": [
        {
          "output_type": "stream",
          "name": "stdout",
          "text": [
            "782/782 [==============================] - 2s 3ms/step - loss: 0.3010 - acc: 0.8793\n"
          ]
        },
        {
          "output_type": "execute_result",
          "data": {
            "text/plain": [
              "[0.30095458030700684, 0.8792799711227417]"
            ]
          },
          "metadata": {},
          "execution_count": 16
        }
      ]
    },
    {
      "cell_type": "code",
      "source": [
        "y_pred = model.predict(X_test)"
      ],
      "metadata": {
        "colab": {
          "base_uri": "https://localhost:8080/"
        },
        "id": "HOMgqZzkk5oH",
        "outputId": "56cbcecc-a10d-49fe-a0c4-653c29a65168"
      },
      "execution_count": 17,
      "outputs": [
        {
          "output_type": "stream",
          "name": "stdout",
          "text": [
            "782/782 [==============================] - 1s 2ms/step\n"
          ]
        }
      ]
    },
    {
      "cell_type": "code",
      "source": [
        "y_pred = np.where(y_pred>0.5, 1, 0)"
      ],
      "metadata": {
        "id": "znK_TSfpk_FD"
      },
      "execution_count": 18,
      "outputs": []
    },
    {
      "cell_type": "code",
      "source": [
        "sns.heatmap(confusion_matrix(y_test, y_pred)/len(y_test)*100, annot=True)\n",
        "plt.show()"
      ],
      "metadata": {
        "colab": {
          "base_uri": "https://localhost:8080/",
          "height": 269
        },
        "id": "Sb3liMPzjuOS",
        "outputId": "c121db77-72c5-489b-f1f5-16173571f62a"
      },
      "execution_count": 19,
      "outputs": [
        {
          "output_type": "display_data",
          "data": {
            "text/plain": [
              "<Figure size 432x288 with 2 Axes>"
            ],
            "image/png": "[encoded data removed]"
          },
          "metadata": {
            "needs_background": "light"
          }
        }
      ]
    },
    {
      "cell_type": "code",
      "source": [
        "print(classification_report(y_test, y_pred))"
      ],
      "metadata": {
        "colab": {
          "base_uri": "https://localhost:8080/"
        },
        "id": "jAH8ZgXQl4Aj",
        "outputId": "93fb487f-f34f-4db1-e147-e4597358cbd7"
      },
      "execution_count": 20,
      "outputs": [
        {
          "output_type": "stream",
          "name": "stdout",
          "text": [
            "              precision    recall  f1-score   support\n",
            "\n",
            "         0.0       0.90      0.86      0.88     12500\n",
            "         1.0       0.86      0.90      0.88     12500\n",
            "\n",
            "    accuracy                           0.88     25000\n",
            "   macro avg       0.88      0.88      0.88     25000\n",
            "weighted avg       0.88      0.88      0.88     25000\n",
            "\n"
          ]
        }
      ]
    }
  ]
}